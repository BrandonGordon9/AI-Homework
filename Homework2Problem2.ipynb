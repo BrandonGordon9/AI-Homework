{
  "nbformat": 4,
  "nbformat_minor": 0,
  "metadata": {
    "colab": {
      "name": "Homework2Problem2.ipynb",
      "provenance": [],
      "collapsed_sections": [],
      "include_colab_link": true
    },
    "kernelspec": {
      "name": "python3",
      "display_name": "Python 3"
    }
  },
  "cells": [
    {
      "cell_type": "markdown",
      "metadata": {
        "id": "view-in-github",
        "colab_type": "text"
      },
      "source": [
        "<a href=\"https://colab.research.google.com/github/BrandonGordon9/AI-Homework/blob/master/Homework2Problem2.ipynb\" target=\"_parent\"><img src=\"https://colab.research.google.com/assets/colab-badge.svg\" alt=\"Open In Colab\"/></a>"
      ]
    },
    {
      "cell_type": "markdown",
      "metadata": {
        "id": "rt44vyY1xW9b",
        "colab_type": "text"
      },
      "source": [
        "# MNIST fashion data set"
      ]
    },
    {
      "cell_type": "markdown",
      "metadata": {
        "id": "l34GNy7tyNks",
        "colab_type": "text"
      },
      "source": [
        "## Loading the MNIST fashion data set"
      ]
    },
    {
      "cell_type": "code",
      "metadata": {
        "id": "FSJyddqGexl5",
        "colab_type": "code",
        "outputId": "10c259e5-ef6f-4dfb-9a17-e822d67679f9",
        "colab": {
          "base_uri": "https://localhost:8080/",
          "height": 199
        }
      },
      "source": [
        "import tensorflow as tf\n",
        "from tensorflow import keras\n",
        "\n",
        "fashion_mnist = keras.datasets.fashion_mnist\n",
        "\n",
        "(train_images, train_labels), (test_images, test_labels) = fashion_mnist.load_data()"
      ],
      "execution_count": 0,
      "outputs": [
        {
          "output_type": "display_data",
          "data": {
            "text/html": [
              "<p style=\"color: red;\">\n",
              "The default version of TensorFlow in Colab will soon switch to TensorFlow 2.x.<br>\n",
              "We recommend you <a href=\"https://www.tensorflow.org/guide/migrate\" target=\"_blank\">upgrade</a> now \n",
              "or ensure your notebook will continue to use TensorFlow 1.x via the <code>%tensorflow_version 1.x</code> magic:\n",
              "<a href=\"https://colab.research.google.com/notebooks/tensorflow_version.ipynb\" target=\"_blank\">more info</a>.</p>\n"
            ],
            "text/plain": [
              "<IPython.core.display.HTML object>"
            ]
          },
          "metadata": {
            "tags": []
          }
        },
        {
          "output_type": "stream",
          "text": [
            "Downloading data from https://storage.googleapis.com/tensorflow/tf-keras-datasets/train-labels-idx1-ubyte.gz\n",
            "32768/29515 [=================================] - 0s 0us/step\n",
            "Downloading data from https://storage.googleapis.com/tensorflow/tf-keras-datasets/train-images-idx3-ubyte.gz\n",
            "26427392/26421880 [==============================] - 0s 0us/step\n",
            "Downloading data from https://storage.googleapis.com/tensorflow/tf-keras-datasets/t10k-labels-idx1-ubyte.gz\n",
            "8192/5148 [===============================================] - 0s 0us/step\n",
            "Downloading data from https://storage.googleapis.com/tensorflow/tf-keras-datasets/t10k-images-idx3-ubyte.gz\n",
            "4423680/4422102 [==============================] - 0s 0us/step\n"
          ],
          "name": "stdout"
        }
      ]
    },
    {
      "cell_type": "markdown",
      "metadata": {
        "id": "XuWVQX3CySIC",
        "colab_type": "text"
      },
      "source": [
        "## Exploring the format of the MNIST fashion data set"
      ]
    },
    {
      "cell_type": "code",
      "metadata": {
        "id": "HKyztEf4fkBg",
        "colab_type": "code",
        "outputId": "03a85d78-4ff8-454e-923c-d1f6bace8e52",
        "colab": {
          "base_uri": "https://localhost:8080/",
          "height": 34
        }
      },
      "source": [
        "train_images.shape"
      ],
      "execution_count": 0,
      "outputs": [
        {
          "output_type": "execute_result",
          "data": {
            "text/plain": [
              "(60000, 28, 28)"
            ]
          },
          "metadata": {
            "tags": []
          },
          "execution_count": 3
        }
      ]
    },
    {
      "cell_type": "code",
      "metadata": {
        "id": "vA81OpzFyjyS",
        "colab_type": "code",
        "outputId": "1ef26049-b5d6-4a4f-cd2a-839b8ae3b7d9",
        "colab": {
          "base_uri": "https://localhost:8080/",
          "height": 34
        }
      },
      "source": [
        "len(train_images)"
      ],
      "execution_count": 0,
      "outputs": [
        {
          "output_type": "execute_result",
          "data": {
            "text/plain": [
              "60000"
            ]
          },
          "metadata": {
            "tags": []
          },
          "execution_count": 4
        }
      ]
    },
    {
      "cell_type": "code",
      "metadata": {
        "id": "w85BC1AXxwds",
        "colab_type": "code",
        "outputId": "bbb56a2e-35b2-453a-9c3f-d4b2c39a1aa8",
        "colab": {
          "base_uri": "https://localhost:8080/",
          "height": 34
        }
      },
      "source": [
        "train_images.ndim"
      ],
      "execution_count": 0,
      "outputs": [
        {
          "output_type": "execute_result",
          "data": {
            "text/plain": [
              "3"
            ]
          },
          "metadata": {
            "tags": []
          },
          "execution_count": 5
        }
      ]
    },
    {
      "cell_type": "code",
      "metadata": {
        "id": "1sHFiZBFxnrB",
        "colab_type": "code",
        "outputId": "5f9e1e0b-630a-45e3-976e-8f6f23189b8b",
        "colab": {
          "base_uri": "https://localhost:8080/",
          "height": 34
        }
      },
      "source": [
        "train_images.dtype"
      ],
      "execution_count": 0,
      "outputs": [
        {
          "output_type": "execute_result",
          "data": {
            "text/plain": [
              "dtype('uint8')"
            ]
          },
          "metadata": {
            "tags": []
          },
          "execution_count": 6
        }
      ]
    },
    {
      "cell_type": "code",
      "metadata": {
        "id": "euQWeEkpyCL5",
        "colab_type": "code",
        "outputId": "15afc370-14be-492b-82c6-8d3f369be248",
        "colab": {
          "base_uri": "https://localhost:8080/",
          "height": 34
        }
      },
      "source": [
        "train_labels"
      ],
      "execution_count": 0,
      "outputs": [
        {
          "output_type": "execute_result",
          "data": {
            "text/plain": [
              "array([9, 0, 0, ..., 3, 0, 5], dtype=uint8)"
            ]
          },
          "metadata": {
            "tags": []
          },
          "execution_count": 7
        }
      ]
    },
    {
      "cell_type": "code",
      "metadata": {
        "id": "jqv0aUL-gGU_",
        "colab_type": "code",
        "outputId": "f4947597-eca0-436f-eb5e-5509b7469b75",
        "colab": {
          "base_uri": "https://localhost:8080/",
          "height": 34
        }
      },
      "source": [
        "len(train_labels)"
      ],
      "execution_count": 0,
      "outputs": [
        {
          "output_type": "execute_result",
          "data": {
            "text/plain": [
              "60000"
            ]
          },
          "metadata": {
            "tags": []
          },
          "execution_count": 8
        }
      ]
    },
    {
      "cell_type": "code",
      "metadata": {
        "id": "aa2r6ZRcO7XV",
        "colab_type": "code",
        "colab": {}
      },
      "source": [
        "class_names = ['T-shirt/top', 'Trouser', 'Pullover', 'Dress', 'Coat',\n",
        "               'Sandal', 'Shirt', 'Sneaker', 'Bag', 'Ankle boot']"
      ],
      "execution_count": 0,
      "outputs": []
    },
    {
      "cell_type": "markdown",
      "metadata": {
        "id": "dmQ2siA7ywPx",
        "colab_type": "text"
      },
      "source": [
        "## Displaying some MNIST fashion items"
      ]
    },
    {
      "cell_type": "code",
      "metadata": {
        "id": "uSj4HIhWzBxl",
        "colab_type": "code",
        "colab": {}
      },
      "source": [
        "import matplotlib.pyplot as plt\n",
        "import numpy as np"
      ],
      "execution_count": 0,
      "outputs": []
    },
    {
      "cell_type": "code",
      "metadata": {
        "id": "1Gdt3obzgQaY",
        "colab_type": "code",
        "outputId": "833638d3-e365-458a-de54-44ac2b9e51bb",
        "colab": {
          "base_uri": "https://localhost:8080/",
          "height": 589
        }
      },
      "source": [
        "plt.figure(figsize=(10,10))\n",
        "indices = np.random.choice(np.arange(60000), size=25, replace=False)\n",
        "for i in range(25):\n",
        "    plt.subplot(5,5,i+1)\n",
        "    plt.xticks([])\n",
        "    plt.yticks([])\n",
        "    plt.grid(False)\n",
        "    plt.imshow(train_images[i], cmap=plt.cm.binary)\n",
        "    plt.xlabel(class_names[train_labels[i]])\n",
        "plt.show()"
      ],
      "execution_count": 0,
      "outputs": [
        {
          "output_type": "display_data",
          "data": {
            "image/png": "[encoded data removed]",
            "text/plain": [
              "<Figure size 720x720 with 25 Axes>"
            ]
          },
          "metadata": {
            "tags": []
          }
        }
      ]
    },
    {
      "cell_type": "markdown",
      "metadata": {
        "id": "Rcch4U30N53_",
        "colab_type": "text"
      },
      "source": [
        "The data must be preprocessed before training the network. If you inspect the first image in the training set, you will see that the pixel values fall in the range of 0 to 255:"
      ]
    },
    {
      "cell_type": "code",
      "metadata": {
        "id": "luvWbddTMtTX",
        "colab_type": "code",
        "outputId": "d9726504-5b07-4c9e-bc71-083a906065fe",
        "colab": {
          "base_uri": "https://localhost:8080/",
          "height": 265
        }
      },
      "source": [
        "plt.figure()\n",
        "plt.imshow(train_images[0])\n",
        "plt.colorbar()\n",
        "plt.grid(False)\n",
        "plt.show()"
      ],
      "execution_count": 0,
      "outputs": [
        {
          "output_type": "display_data",
          "data": {
            "image/png": "[encoded data removed]",
            "text/plain": [
              "<Figure size 432x288 with 2 Axes>"
            ]
          },
          "metadata": {
            "tags": []
          }
        }
      ]
    },
    {
      "cell_type": "markdown",
      "metadata": {
        "id": "JC5iBT_0OCSl",
        "colab_type": "text"
      },
      "source": [
        "## Preprocess the data"
      ]
    },
    {
      "cell_type": "code",
      "metadata": {
        "id": "inugSPsZNytV",
        "colab_type": "code",
        "colab": {}
      },
      "source": [
        "train_images = train_images / 255.0\n",
        "test_images = test_images / 255.0"
      ],
      "execution_count": 0,
      "outputs": []
    },
    {
      "cell_type": "markdown",
      "metadata": {
        "colab_type": "text",
        "id": "YseFPyAoEJ4e"
      },
      "source": [
        "## Building a model that underfits"
      ]
    },
    {
      "cell_type": "code",
      "metadata": {
        "colab_type": "code",
        "outputId": "295352fb-a298-46f9-da14-2c4ea0bc7034",
        "id": "1GIJbvD3EJ4g",
        "colab": {
          "base_uri": "https://localhost:8080/",
          "height": 544
        }
      },
      "source": [
        "# set up the layers\n",
        "\n",
        "model = keras.Sequential([\n",
        "    keras.layers.Flatten(input_shape=(28, 28)),\n",
        "    keras.layers.Dense(1, activation=tf.nn.relu),\n",
        "    keras.layers.Dense(20, activation=tf.nn.softmax)\n",
        "])\n",
        "\n",
        "# compile the model\n",
        "\n",
        "model.compile(optimizer='adam',\n",
        "             loss='sparse_categorical_crossentropy',\n",
        "             metrics=['accuracy'])\n",
        "\n",
        "# train the model\n",
        "epochs = 15\n",
        "history = model.fit(train_images, \n",
        "                      train_labels, \n",
        "                      epochs=epochs,  \n",
        "                      validation_data=(test_images, test_labels))"
      ],
      "execution_count": 0,
      "outputs": [
        {
          "output_type": "stream",
          "text": [
            "Train on 60000 samples, validate on 10000 samples\n",
            "Epoch 1/15\n",
            "60000/60000 [==============================] - 4s 66us/sample - loss: 2.0104 - acc: 0.2505 - val_loss: 1.7179 - val_acc: 0.2838\n",
            "Epoch 2/15\n",
            "60000/60000 [==============================] - 4s 61us/sample - loss: 1.6123 - acc: 0.3253 - val_loss: 1.5447 - val_acc: 0.3414\n",
            "Epoch 3/15\n",
            "60000/60000 [==============================] - 4s 60us/sample - loss: 1.5023 - acc: 0.3499 - val_loss: 1.4780 - val_acc: 0.3467\n",
            "Epoch 4/15\n",
            "60000/60000 [==============================] - 4s 62us/sample - loss: 1.4533 - acc: 0.3583 - val_loss: 1.4494 - val_acc: 0.3460\n",
            "Epoch 5/15\n",
            "60000/60000 [==============================] - 4s 67us/sample - loss: 1.4249 - acc: 0.3618 - val_loss: 1.4258 - val_acc: 0.3581\n",
            "Epoch 6/15\n",
            "60000/60000 [==============================] - 4s 73us/sample - loss: 1.4061 - acc: 0.3678 - val_loss: 1.4099 - val_acc: 0.3645\n",
            "Epoch 7/15\n",
            "60000/60000 [==============================] - 4s 74us/sample - loss: 1.3929 - acc: 0.3726 - val_loss: 1.3996 - val_acc: 0.3665\n",
            "Epoch 8/15\n",
            "60000/60000 [==============================] - 4s 64us/sample - loss: 1.3816 - acc: 0.3801 - val_loss: 1.3871 - val_acc: 0.3808\n",
            "Epoch 9/15\n",
            "60000/60000 [==============================] - 4s 63us/sample - loss: 1.3721 - acc: 0.3852 - val_loss: 1.3781 - val_acc: 0.3828\n",
            "Epoch 10/15\n",
            "60000/60000 [==============================] - 4s 64us/sample - loss: 1.3645 - acc: 0.3889 - val_loss: 1.3702 - val_acc: 0.3852\n",
            "Epoch 11/15\n",
            "60000/60000 [==============================] - 4s 60us/sample - loss: 1.3566 - acc: 0.3947 - val_loss: 1.3670 - val_acc: 0.3918\n",
            "Epoch 12/15\n",
            "60000/60000 [==============================] - 4s 65us/sample - loss: 1.3510 - acc: 0.3980 - val_loss: 1.3577 - val_acc: 0.4029\n",
            "Epoch 13/15\n",
            "60000/60000 [==============================] - 4s 72us/sample - loss: 1.3446 - acc: 0.4051 - val_loss: 1.3536 - val_acc: 0.4021\n",
            "Epoch 14/15\n",
            "60000/60000 [==============================] - 4s 64us/sample - loss: 1.3382 - acc: 0.4097 - val_loss: 1.3473 - val_acc: 0.4085\n",
            "Epoch 15/15\n",
            "60000/60000 [==============================] - 4s 62us/sample - loss: 1.3318 - acc: 0.4167 - val_loss: 1.3440 - val_acc: 0.4078\n"
          ],
          "name": "stdout"
        }
      ]
    },
    {
      "cell_type": "markdown",
      "metadata": {
        "colab_type": "text",
        "id": "6usWahk5EJ4k"
      },
      "source": [
        "## Evaluate accuracy"
      ]
    },
    {
      "cell_type": "code",
      "metadata": {
        "colab_type": "code",
        "outputId": "bdca66df-4bf7-43a4-85b1-81250424ae19",
        "id": "moxRQRK8EJ4k",
        "colab": {
          "base_uri": "https://localhost:8080/",
          "height": 51
        }
      },
      "source": [
        "test_loss, test_acc = model.evaluate(test_images, test_labels)\n",
        "\n",
        "print('Test accuracy:', test_acc)"
      ],
      "execution_count": 0,
      "outputs": [
        {
          "output_type": "stream",
          "text": [
            "10000/10000 [==============================] - 0s 31us/sample - loss: 1.3440 - acc: 0.4078\n",
            "Test accuracy: 0.4078\n"
          ],
          "name": "stdout"
        }
      ]
    },
    {
      "cell_type": "markdown",
      "metadata": {
        "colab_type": "text",
        "id": "a5O6tsWvEJ4m"
      },
      "source": [
        "It turns out, the accuracy on the test dataset is a little less than the accuracy on the training dataset. \n",
        "\n",
        "This gap between training accuracy and test accuracy is an example of **overfitting**. Overfitting is when a machine learning model performs worse on new data than on their training data.\n",
        "\n"
      ]
    },
    {
      "cell_type": "markdown",
      "metadata": {
        "colab_type": "text",
        "id": "4NyGByVSEJ4n"
      },
      "source": [
        "## Training/test loss/accuracy during training"
      ]
    },
    {
      "cell_type": "code",
      "metadata": {
        "colab_type": "code",
        "id": "oeePqeHfEJ4o",
        "colab": {}
      },
      "source": [
        "history_dict = history.history\n",
        "loss_values = history_dict['loss']\n",
        "test_loss_values = history_dict['val_loss']\n",
        "epochs_range = range(1, epochs+1)"
      ],
      "execution_count": 0,
      "outputs": []
    },
    {
      "cell_type": "code",
      "metadata": {
        "colab_type": "code",
        "outputId": "dd230f01-70ba-4be0-9218-d6631d9e6532",
        "id": "wNfiUMFDEJ4p",
        "colab": {
          "base_uri": "https://localhost:8080/",
          "height": 295
        }
      },
      "source": [
        "plt.plot(epochs_range, loss_values, 'bo', label='Training loss')\n",
        "plt.plot(epochs_range, test_loss_values, 'ro', label='Test loss')\n",
        "plt.title('Training and test loss')\n",
        "plt.xlabel('Epochs')\n",
        "plt.ylabel('Loss')\n",
        "plt.legend()\n",
        "plt.show()"
      ],
      "execution_count": 0,
      "outputs": [
        {
          "output_type": "display_data",
          "data": {
            "image/png": "[encoded data removed]",
            "text/plain": [
              "<Figure size 432x288 with 1 Axes>"
            ]
          },
          "metadata": {
            "tags": []
          }
        }
      ]
    },
    {
      "cell_type": "code",
      "metadata": {
        "colab_type": "code",
        "id": "PdC5vu-0EJ4s",
        "colab": {}
      },
      "source": [
        "acc_values = history_dict['acc']\n",
        "test_acc_values = history_dict['val_acc']"
      ],
      "execution_count": 0,
      "outputs": []
    },
    {
      "cell_type": "code",
      "metadata": {
        "colab_type": "code",
        "outputId": "bb4bb284-a902-464f-a765-4fc2a0ec70cc",
        "id": "7DyXtDL0EJ4v",
        "colab": {
          "base_uri": "https://localhost:8080/",
          "height": 295
        }
      },
      "source": [
        "plt.plot(epochs_range, acc_values, 'bo', label='Training accuracy')\n",
        "plt.plot(epochs_range, test_acc_values, 'ro', label='Test accuracy')\n",
        "plt.title('Training and test accuracy')\n",
        "plt.xlabel('Epochs')\n",
        "plt.ylabel('Accuracy')\n",
        "plt.legend()\n",
        "plt.show()"
      ],
      "execution_count": 0,
      "outputs": [
        {
          "output_type": "display_data",
          "data": {
            "image/png": "[encoded data removed]",
            "text/plain": [
              "<Figure size 432x288 with 1 Axes>"
            ]
          },
          "metadata": {
            "tags": []
          }
        }
      ]
    },
    {
      "cell_type": "code",
      "metadata": {
        "colab_type": "code",
        "id": "g8AFn69OEJ4x",
        "colab": {}
      },
      "source": [
        ""
      ],
      "execution_count": 0,
      "outputs": []
    },
    {
      "cell_type": "markdown",
      "metadata": {
        "id": "OA975wHjOJI-",
        "colab_type": "text"
      },
      "source": [
        "## Building a model that overfits"
      ]
    },
    {
      "cell_type": "code",
      "metadata": {
        "id": "ZX6SGTpMOIKN",
        "colab_type": "code",
        "outputId": "34ed50ab-bf38-4bde-f44d-9eef59fcf527",
        "colab": {
          "base_uri": "https://localhost:8080/",
          "height": 1000
        }
      },
      "source": [
        "# set up the layers\n",
        "\n",
        "model = keras.Sequential([\n",
        "    keras.layers.Flatten(input_shape=(28, 28)),\n",
        "    keras.layers.Dense(200, activation=tf.nn.relu),\n",
        "    keras.layers.Dense(20, activation=tf.nn.softmax)\n",
        "])\n",
        "\n",
        "# compile the model\n",
        "\n",
        "model.compile(optimizer='adam',\n",
        "             loss='sparse_categorical_crossentropy',\n",
        "             metrics=['accuracy'])\n",
        "\n",
        "# train the model\n",
        "epochs = 30\n",
        "history = model.fit(train_images, \n",
        "                      train_labels, \n",
        "                      epochs=epochs,  \n",
        "                      validation_data=(test_images, test_labels))"
      ],
      "execution_count": 0,
      "outputs": [
        {
          "output_type": "stream",
          "text": [
            "Train on 60000 samples, validate on 10000 samples\n",
            "Epoch 1/30\n",
            "60000/60000 [==============================] - 9s 142us/sample - loss: 0.4989 - acc: 0.8250 - val_loss: 0.4203 - val_acc: 0.8480\n",
            "Epoch 2/30\n",
            "60000/60000 [==============================] - 8s 125us/sample - loss: 0.3741 - acc: 0.8640 - val_loss: 0.3934 - val_acc: 0.8595\n",
            "Epoch 3/30\n",
            "60000/60000 [==============================] - 8s 127us/sample - loss: 0.3345 - acc: 0.8780 - val_loss: 0.3695 - val_acc: 0.8690\n",
            "Epoch 4/30\n",
            "60000/60000 [==============================] - 8s 128us/sample - loss: 0.3113 - acc: 0.8866 - val_loss: 0.3820 - val_acc: 0.8619\n",
            "Epoch 5/30\n",
            "60000/60000 [==============================] - 9s 144us/sample - loss: 0.2909 - acc: 0.8925 - val_loss: 0.3970 - val_acc: 0.8560\n",
            "Epoch 6/30\n",
            "60000/60000 [==============================] - 9s 145us/sample - loss: 0.2768 - acc: 0.8971 - val_loss: 0.3423 - val_acc: 0.8780\n",
            "Epoch 7/30\n",
            "60000/60000 [==============================] - 9s 149us/sample - loss: 0.2628 - acc: 0.9020 - val_loss: 0.3466 - val_acc: 0.8711\n",
            "Epoch 8/30\n",
            "60000/60000 [==============================] - 9s 147us/sample - loss: 0.2519 - acc: 0.9058 - val_loss: 0.3858 - val_acc: 0.8652\n",
            "Epoch 9/30\n",
            "60000/60000 [==============================] - 9s 146us/sample - loss: 0.2425 - acc: 0.9098 - val_loss: 0.3347 - val_acc: 0.8848\n",
            "Epoch 10/30\n",
            "60000/60000 [==============================] - 9s 145us/sample - loss: 0.2333 - acc: 0.9130 - val_loss: 0.3447 - val_acc: 0.8822\n",
            "Epoch 11/30\n",
            "60000/60000 [==============================] - 9s 148us/sample - loss: 0.2257 - acc: 0.9160 - val_loss: 0.3368 - val_acc: 0.8828\n",
            "Epoch 12/30\n",
            "60000/60000 [==============================] - 9s 150us/sample - loss: 0.2163 - acc: 0.9192 - val_loss: 0.3440 - val_acc: 0.8861\n",
            "Epoch 13/30\n",
            "60000/60000 [==============================] - 9s 151us/sample - loss: 0.2110 - acc: 0.9206 - val_loss: 0.3197 - val_acc: 0.8947\n",
            "Epoch 14/30\n",
            "60000/60000 [==============================] - 9s 145us/sample - loss: 0.2022 - acc: 0.9242 - val_loss: 0.3688 - val_acc: 0.8803\n",
            "Epoch 15/30\n",
            "60000/60000 [==============================] - 8s 129us/sample - loss: 0.1976 - acc: 0.9252 - val_loss: 0.3543 - val_acc: 0.8876\n",
            "Epoch 16/30\n",
            "60000/60000 [==============================] - 7s 110us/sample - loss: 0.1903 - acc: 0.9278 - val_loss: 0.3415 - val_acc: 0.8881\n",
            "Epoch 17/30\n",
            "60000/60000 [==============================] - 7s 110us/sample - loss: 0.1838 - acc: 0.9312 - val_loss: 0.3462 - val_acc: 0.8889\n",
            "Epoch 18/30\n",
            "60000/60000 [==============================] - 6s 104us/sample - loss: 0.1779 - acc: 0.9331 - val_loss: 0.3649 - val_acc: 0.8816\n",
            "Epoch 19/30\n",
            "60000/60000 [==============================] - 6s 102us/sample - loss: 0.1739 - acc: 0.9348 - val_loss: 0.3750 - val_acc: 0.8875\n",
            "Epoch 20/30\n",
            "60000/60000 [==============================] - 6s 103us/sample - loss: 0.1692 - acc: 0.9366 - val_loss: 0.3607 - val_acc: 0.8895\n",
            "Epoch 21/30\n",
            "60000/60000 [==============================] - 6s 108us/sample - loss: 0.1661 - acc: 0.9373 - val_loss: 0.3769 - val_acc: 0.8870\n",
            "Epoch 22/30\n",
            "60000/60000 [==============================] - 6s 108us/sample - loss: 0.1616 - acc: 0.9385 - val_loss: 0.3745 - val_acc: 0.8892\n",
            "Epoch 23/30\n",
            "60000/60000 [==============================] - 6s 105us/sample - loss: 0.1549 - acc: 0.9418 - val_loss: 0.3751 - val_acc: 0.8891\n",
            "Epoch 24/30\n",
            "60000/60000 [==============================] - 6s 103us/sample - loss: 0.1536 - acc: 0.9427 - val_loss: 0.3911 - val_acc: 0.8878\n",
            "Epoch 25/30\n",
            "60000/60000 [==============================] - 6s 103us/sample - loss: 0.1507 - acc: 0.9425 - val_loss: 0.3767 - val_acc: 0.8888\n",
            "Epoch 26/30\n",
            "60000/60000 [==============================] - 6s 104us/sample - loss: 0.1443 - acc: 0.9455 - val_loss: 0.4168 - val_acc: 0.8834\n",
            "Epoch 27/30\n",
            "60000/60000 [==============================] - 6s 102us/sample - loss: 0.1422 - acc: 0.9468 - val_loss: 0.3976 - val_acc: 0.8853\n",
            "Epoch 28/30\n",
            "60000/60000 [==============================] - 7s 112us/sample - loss: 0.1384 - acc: 0.9487 - val_loss: 0.4083 - val_acc: 0.8928\n",
            "Epoch 29/30\n",
            "60000/60000 [==============================] - 7s 111us/sample - loss: 0.1360 - acc: 0.9487 - val_loss: 0.4016 - val_acc: 0.8904\n",
            "Epoch 30/30\n",
            "60000/60000 [==============================] - 7s 109us/sample - loss: 0.1312 - acc: 0.9500 - val_loss: 0.3998 - val_acc: 0.8934\n"
          ],
          "name": "stdout"
        }
      ]
    },
    {
      "cell_type": "markdown",
      "metadata": {
        "id": "mORb9IwPP7oE",
        "colab_type": "text"
      },
      "source": [
        "## Evaluate accuracy"
      ]
    },
    {
      "cell_type": "code",
      "metadata": {
        "id": "rlKIF6ijOkiE",
        "colab_type": "code",
        "outputId": "be22d0fa-a443-4819-9a4c-3668fb30fa5c",
        "colab": {
          "base_uri": "https://localhost:8080/",
          "height": 51
        }
      },
      "source": [
        "test_loss, test_acc = model.evaluate(test_images, test_labels)\n",
        "\n",
        "print('Test accuracy:', test_acc)"
      ],
      "execution_count": 0,
      "outputs": [
        {
          "output_type": "stream",
          "text": [
            "10000/10000 [==============================] - 0s 49us/sample - loss: 0.3998 - acc: 0.8934\n",
            "Test accuracy: 0.8934\n"
          ],
          "name": "stdout"
        }
      ]
    },
    {
      "cell_type": "markdown",
      "metadata": {
        "id": "A4_diOE4QOqo",
        "colab_type": "text"
      },
      "source": [
        "It turns out, the accuracy on the test dataset is a little less than the accuracy on the training dataset. \n",
        "\n",
        "This gap between training accuracy and test accuracy is an example of **overfitting**. Overfitting is when a machine learning model performs worse on new data than on their training data.\n",
        "\n"
      ]
    },
    {
      "cell_type": "markdown",
      "metadata": {
        "id": "GqbGdV6oXEyP",
        "colab_type": "text"
      },
      "source": [
        "## Training/test loss/accuracy during training"
      ]
    },
    {
      "cell_type": "code",
      "metadata": {
        "id": "3b5OCE5YTrEc",
        "colab_type": "code",
        "colab": {}
      },
      "source": [
        "history_dict = history.history\n",
        "loss_values = history_dict['loss']\n",
        "test_loss_values = history_dict['val_loss']\n",
        "epochs_range = range(1, epochs+1)"
      ],
      "execution_count": 0,
      "outputs": []
    },
    {
      "cell_type": "code",
      "metadata": {
        "id": "y98AOblYT3Pk",
        "colab_type": "code",
        "outputId": "da60330d-a993-49e0-dc4b-cf196e4ac096",
        "colab": {
          "base_uri": "https://localhost:8080/",
          "height": 295
        }
      },
      "source": [
        "plt.plot(epochs_range, loss_values, 'bo', label='Training loss')\n",
        "plt.plot(epochs_range, test_loss_values, 'ro', label='Test loss')\n",
        "plt.title('Training and test loss')\n",
        "plt.xlabel('Epochs')\n",
        "plt.ylabel('Loss')\n",
        "plt.legend()\n",
        "plt.show()"
      ],
      "execution_count": 0,
      "outputs": [
        {
          "output_type": "display_data",
          "data": {
            "image/png": "[encoded data removed]",
            "text/plain": [
              "<Figure size 432x288 with 1 Axes>"
            ]
          },
          "metadata": {
            "tags": []
          }
        }
      ]
    },
    {
      "cell_type": "code",
      "metadata": {
        "id": "790AkDaTWuZU",
        "colab_type": "code",
        "colab": {}
      },
      "source": [
        "acc_values = history_dict['acc']\n",
        "test_acc_values = history_dict['val_acc']"
      ],
      "execution_count": 0,
      "outputs": []
    },
    {
      "cell_type": "code",
      "metadata": {
        "id": "7BkIfPQ4W39E",
        "colab_type": "code",
        "outputId": "176530dd-64a1-4201-81b0-1d4260fb8be0",
        "colab": {
          "base_uri": "https://localhost:8080/",
          "height": 295
        }
      },
      "source": [
        "plt.plot(epochs_range, acc_values, 'bo', label='Training accuracy')\n",
        "plt.plot(epochs_range, test_acc_values, 'ro', label='Test accuracy')\n",
        "plt.title('Training and test accuracy')\n",
        "plt.xlabel('Epochs')\n",
        "plt.ylabel('Accuracy')\n",
        "plt.legend()\n",
        "plt.show()"
      ],
      "execution_count": 0,
      "outputs": [
        {
          "output_type": "display_data",
          "data": {
            "image/png": "[encoded data removed]",
            "text/plain": [
              "<Figure size 432x288 with 1 Axes>"
            ]
          },
          "metadata": {
            "tags": []
          }
        }
      ]
    },
    {
      "cell_type": "code",
      "metadata": {
        "id": "Kqsq7OHUD6wW",
        "colab_type": "code",
        "colab": {}
      },
      "source": [
        ""
      ],
      "execution_count": 0,
      "outputs": []
    },
    {
      "cell_type": "markdown",
      "metadata": {
        "colab_type": "text",
        "id": "55LmgDeqD7Xy"
      },
      "source": [
        "## Building a model that is good"
      ]
    },
    {
      "cell_type": "code",
      "metadata": {
        "colab_type": "code",
        "outputId": "ec141cbb-88af-4779-b938-987237fce9b2",
        "id": "uWj25D9nD7X0",
        "colab": {
          "base_uri": "https://localhost:8080/",
          "height": 714
        }
      },
      "source": [
        "# set up the layers\n",
        "\n",
        "model = keras.Sequential([\n",
        "    keras.layers.Flatten(input_shape=(28, 28)),\n",
        "    keras.layers.Dense(2, activation=tf.nn.relu),\n",
        "    keras.layers.Dense(10, activation=tf.nn.softmax)\n",
        "])\n",
        "\n",
        "# compile the model\n",
        "\n",
        "model.compile(optimizer='adam',\n",
        "             loss='sparse_categorical_crossentropy',\n",
        "             metrics=['accuracy'])\n",
        "\n",
        "# train the model\n",
        "epochs = 20\n",
        "history = model.fit(train_images, \n",
        "                      train_labels, \n",
        "                      epochs=epochs,  \n",
        "                      validation_data=(test_images, test_labels))"
      ],
      "execution_count": 0,
      "outputs": [
        {
          "output_type": "stream",
          "text": [
            "Train on 60000 samples, validate on 10000 samples\n",
            "Epoch 1/20\n",
            "60000/60000 [==============================] - 4s 73us/sample - loss: 1.3652 - acc: 0.5288 - val_loss: 1.0465 - val_acc: 0.6765\n",
            "Epoch 2/20\n",
            "60000/60000 [==============================] - 4s 68us/sample - loss: 0.9310 - acc: 0.7085 - val_loss: 0.8760 - val_acc: 0.7153\n",
            "Epoch 3/20\n",
            "60000/60000 [==============================] - 5s 79us/sample - loss: 0.8316 - acc: 0.7224 - val_loss: 0.8212 - val_acc: 0.7161\n",
            "Epoch 4/20\n",
            "60000/60000 [==============================] - 4s 72us/sample - loss: 0.7946 - acc: 0.7266 - val_loss: 0.8030 - val_acc: 0.7189\n",
            "Epoch 5/20\n",
            "60000/60000 [==============================] - 4s 66us/sample - loss: 0.7766 - acc: 0.7278 - val_loss: 0.7912 - val_acc: 0.7195\n",
            "Epoch 6/20\n",
            "60000/60000 [==============================] - 4s 69us/sample - loss: 0.7644 - acc: 0.7298 - val_loss: 0.7805 - val_acc: 0.7252\n",
            "Epoch 7/20\n",
            "60000/60000 [==============================] - 4s 69us/sample - loss: 0.7563 - acc: 0.7322 - val_loss: 0.7803 - val_acc: 0.7228\n",
            "Epoch 8/20\n",
            "60000/60000 [==============================] - 4s 69us/sample - loss: 0.7501 - acc: 0.7339 - val_loss: 0.7768 - val_acc: 0.7296\n",
            "Epoch 9/20\n",
            "60000/60000 [==============================] - 4s 69us/sample - loss: 0.7451 - acc: 0.7344 - val_loss: 0.7734 - val_acc: 0.7270\n",
            "Epoch 10/20\n",
            "60000/60000 [==============================] - 4s 68us/sample - loss: 0.7417 - acc: 0.7345 - val_loss: 0.7782 - val_acc: 0.7284\n",
            "Epoch 11/20\n",
            "60000/60000 [==============================] - 4s 69us/sample - loss: 0.7381 - acc: 0.7358 - val_loss: 0.7663 - val_acc: 0.7335\n",
            "Epoch 12/20\n",
            "60000/60000 [==============================] - 4s 69us/sample - loss: 0.7349 - acc: 0.7367 - val_loss: 0.7622 - val_acc: 0.7296\n",
            "Epoch 13/20\n",
            "60000/60000 [==============================] - 4s 68us/sample - loss: 0.7321 - acc: 0.7384 - val_loss: 0.7585 - val_acc: 0.7333\n",
            "Epoch 14/20\n",
            "60000/60000 [==============================] - 4s 71us/sample - loss: 0.7298 - acc: 0.7384 - val_loss: 0.7594 - val_acc: 0.7314\n",
            "Epoch 15/20\n",
            "60000/60000 [==============================] - 4s 70us/sample - loss: 0.7278 - acc: 0.7389 - val_loss: 0.7607 - val_acc: 0.7312\n",
            "Epoch 16/20\n",
            "60000/60000 [==============================] - 4s 68us/sample - loss: 0.7260 - acc: 0.7404 - val_loss: 0.7551 - val_acc: 0.7345\n",
            "Epoch 17/20\n",
            "60000/60000 [==============================] - 4s 69us/sample - loss: 0.7234 - acc: 0.7412 - val_loss: 0.7729 - val_acc: 0.7280\n",
            "Epoch 18/20\n",
            "60000/60000 [==============================] - 4s 68us/sample - loss: 0.7224 - acc: 0.7409 - val_loss: 0.7595 - val_acc: 0.7289\n",
            "Epoch 19/20\n",
            "60000/60000 [==============================] - 4s 66us/sample - loss: 0.7205 - acc: 0.7420 - val_loss: 0.7734 - val_acc: 0.7179\n",
            "Epoch 20/20\n",
            "60000/60000 [==============================] - 4s 68us/sample - loss: 0.7191 - acc: 0.7414 - val_loss: 0.7525 - val_acc: 0.7357\n"
          ],
          "name": "stdout"
        }
      ]
    },
    {
      "cell_type": "markdown",
      "metadata": {
        "colab_type": "text",
        "id": "JnkjMEcSD7X5"
      },
      "source": [
        "## Evaluate accuracy"
      ]
    },
    {
      "cell_type": "code",
      "metadata": {
        "colab_type": "code",
        "outputId": "67015838-bd5c-4a81-a92e-0ef9f96c7e8a",
        "id": "xT77oQxbD7X6",
        "colab": {
          "base_uri": "https://localhost:8080/",
          "height": 51
        }
      },
      "source": [
        "test_loss, test_acc = model.evaluate(test_images, test_labels)\n",
        "\n",
        "print('Test accuracy:', test_acc)"
      ],
      "execution_count": 0,
      "outputs": [
        {
          "output_type": "stream",
          "text": [
            "10000/10000 [==============================] - 0s 37us/sample - loss: 0.7525 - acc: 0.7357\n",
            "Test accuracy: 0.7357\n"
          ],
          "name": "stdout"
        }
      ]
    },
    {
      "cell_type": "markdown",
      "metadata": {
        "colab_type": "text",
        "id": "xgVbF9rBD7X9"
      },
      "source": [
        "It turns out, the accuracy on the test dataset is a little less than the accuracy on the training dataset. \n",
        "\n",
        "This gap between training accuracy and test accuracy is an example of **overfitting**. Overfitting is when a machine learning model performs worse on new data than on their training data.\n",
        "\n"
      ]
    },
    {
      "cell_type": "markdown",
      "metadata": {
        "colab_type": "text",
        "id": "jA5ezlKeD7X-"
      },
      "source": [
        "## Training/test loss/accuracy during training"
      ]
    },
    {
      "cell_type": "code",
      "metadata": {
        "colab_type": "code",
        "id": "_gMlpEYeD7X_",
        "colab": {}
      },
      "source": [
        "history_dict = history.history\n",
        "loss_values = history_dict['loss']\n",
        "test_loss_values = history_dict['val_loss']\n",
        "epochs_range = range(1, epochs+1)"
      ],
      "execution_count": 0,
      "outputs": []
    },
    {
      "cell_type": "code",
      "metadata": {
        "colab_type": "code",
        "outputId": "23ecfa4d-99a8-445e-c64d-27d62c27169d",
        "id": "Pg7ZT0HhD7YB",
        "colab": {
          "base_uri": "https://localhost:8080/",
          "height": 295
        }
      },
      "source": [
        "plt.plot(epochs_range, loss_values, 'bo', label='Training loss')\n",
        "plt.plot(epochs_range, test_loss_values, 'ro', label='Test loss')\n",
        "plt.title('Training and test loss')\n",
        "plt.xlabel('Epochs')\n",
        "plt.ylabel('Loss')\n",
        "plt.legend()\n",
        "plt.show()"
      ],
      "execution_count": 0,
      "outputs": [
        {
          "output_type": "display_data",
          "data": {
            "image/png": "[encoded data removed]",
            "text/plain": [
              "<Figure size 432x288 with 1 Axes>"
            ]
          },
          "metadata": {
            "tags": []
          }
        }
      ]
    },
    {
      "cell_type": "code",
      "metadata": {
        "colab_type": "code",
        "id": "ppz8VPlTD7YD",
        "colab": {}
      },
      "source": [
        "acc_values = history_dict['acc']\n",
        "test_acc_values = history_dict['val_acc']"
      ],
      "execution_count": 0,
      "outputs": []
    },
    {
      "cell_type": "code",
      "metadata": {
        "colab_type": "code",
        "outputId": "62c62499-a6db-4508-a06b-2aac7b4ed377",
        "id": "MU_XLt9ID7YF",
        "colab": {
          "base_uri": "https://localhost:8080/",
          "height": 295
        }
      },
      "source": [
        "plt.plot(epochs_range, acc_values, 'bo', label='Training accuracy')\n",
        "plt.plot(epochs_range, test_acc_values, 'ro', label='Test accuracy')\n",
        "plt.title('Training and test accuracy')\n",
        "plt.xlabel('Epochs')\n",
        "plt.ylabel('Accuracy')\n",
        "plt.legend()\n",
        "plt.show()"
      ],
      "execution_count": 0,
      "outputs": [
        {
          "output_type": "display_data",
          "data": {
            "image/png": "[encoded data removed]",
            "text/plain": [
              "<Figure size 432x288 with 1 Axes>"
            ]
          },
          "metadata": {
            "tags": []
          }
        }
      ]
    }
  ]
}